{
  "nbformat": 4,
  "nbformat_minor": 0,
  "metadata": {
    "colab": {
      "name": "Sample.ipynb",
      "provenance": [],
      "authorship_tag": "ABX9TyMoCZnwhjAdBWfSvXYMyN/c",
      "include_colab_link": true
    },
    "kernelspec": {
      "name": "python3",
      "display_name": "Python 3"
    },
    "accelerator": "GPU"
  },
  "cells": [
    {
      "cell_type": "markdown",
      "metadata": {
        "id": "view-in-github",
        "colab_type": "text"
      },
      "source": [
        "<a href=\"https://colab.research.google.com/github/MiHarsh/Pytorch_Fanatics/blob/master/Sample.ipynb\" target=\"_parent\"><img src=\"https://colab.research.google.com/assets/colab-badge.svg\" alt=\"Open In Colab\"/></a>"
      ]
    },
    {
      "cell_type": "code",
      "metadata": {
        "id": "b5SznzS8QuSt",
        "colab_type": "code",
        "colab": {}
      },
      "source": [
        "!unzip -qq /content/0664343c9a8f11ea.zip"
      ],
      "execution_count": 0,
      "outputs": []
    },
    {
      "cell_type": "code",
      "metadata": {
        "id": "SoZM3s2vHXx_",
        "colab_type": "code",
        "outputId": "7d443955-eb60-457c-a31e-d45614e08c81",
        "colab": {
          "base_uri": "https://localhost:8080/",
          "height": 34
        }
      },
      "source": [
        "import os\n",
        "import torch\n",
        "import albumentations\n",
        "\n",
        "import numpy as np\n",
        "import pandas as pd\n",
        "\n",
        "import torch.nn as nn\n",
        "from sklearn import metrics\n",
        "from sklearn import model_selection\n",
        "from torch.nn import functional as F\n",
        "\n",
        "!pip install timm --quiet\n",
        "import timm\n",
        "\n",
        "import warnings\n",
        "warnings.filterwarnings(\"ignore\")\n"
      ],
      "execution_count": 2,
      "outputs": [
        {
          "output_type": "stream",
          "text": [
            "\u001b[?25l\r\u001b[K     |█▋                              | 10kB 34.0MB/s eta 0:00:01\r\u001b[K     |███▏                            | 20kB 5.7MB/s eta 0:00:01\r\u001b[K     |████▊                           | 30kB 7.0MB/s eta 0:00:01\r\u001b[K     |██████▎                         | 40kB 7.2MB/s eta 0:00:01\r\u001b[K     |███████▉                        | 51kB 6.6MB/s eta 0:00:01\r\u001b[K     |█████████▍                      | 61kB 7.4MB/s eta 0:00:01\r\u001b[K     |███████████                     | 71kB 7.4MB/s eta 0:00:01\r\u001b[K     |████████████▌                   | 81kB 8.1MB/s eta 0:00:01\r\u001b[K     |██████████████                  | 92kB 8.4MB/s eta 0:00:01\r\u001b[K     |███████████████▋                | 102kB 8.6MB/s eta 0:00:01\r\u001b[K     |█████████████████▏              | 112kB 8.6MB/s eta 0:00:01\r\u001b[K     |██████████████████▊             | 122kB 8.6MB/s eta 0:00:01\r\u001b[K     |████████████████████▎           | 133kB 8.6MB/s eta 0:00:01\r\u001b[K     |█████████████████████▉          | 143kB 8.6MB/s eta 0:00:01\r\u001b[K     |███████████████████████▍        | 153kB 8.6MB/s eta 0:00:01\r\u001b[K     |█████████████████████████       | 163kB 8.6MB/s eta 0:00:01\r\u001b[K     |██████████████████████████▌     | 174kB 8.6MB/s eta 0:00:01\r\u001b[K     |████████████████████████████    | 184kB 8.6MB/s eta 0:00:01\r\u001b[K     |█████████████████████████████▋  | 194kB 8.6MB/s eta 0:00:01\r\u001b[K     |███████████████████████████████▏| 204kB 8.6MB/s eta 0:00:01\r\u001b[K     |████████████████████████████████| 215kB 8.6MB/s \n",
            "\u001b[?25h"
          ],
          "name": "stdout"
        }
      ]
    },
    {
      "cell_type": "code",
      "metadata": {
        "id": "qCP2oqqkubDj",
        "colab_type": "code",
        "colab": {}
      },
      "source": [
        "#Seed everything at ones for reproducibility\n",
        "import random\n",
        "def set_seed(seed):\n",
        "    torch.manual_seed(seed)\n",
        "    torch.cuda.manual_seed_all(seed)\n",
        "    torch.backends.cudnn.deterministic = True\n",
        "    torch.backends.cudnn.benchmark = False\n",
        "    np.random.seed(seed)\n",
        "    random.seed(seed)\n",
        "    os.environ['PYTHONHASHSEED'] = str(seed)\n",
        "set_seed(42)"
      ],
      "execution_count": 0,
      "outputs": []
    },
    {
      "cell_type": "markdown",
      "metadata": {
        "id": "3EBFk5ipzooK",
        "colab_type": "text"
      },
      "source": [
        "***Making Stratified K fold....***"
      ]
    },
    {
      "cell_type": "code",
      "metadata": {
        "id": "92YYdsLjIOFA",
        "colab_type": "code",
        "colab": {}
      },
      "source": [
        "Data_dir='/content/dataset/'\n",
        "df=pd.read_csv(Data_dir+'train.csv')\n",
        "df_dict={'manipuri':0, 'bharatanatyam':1, 'odissi':2, 'kathakali':3, 'kathak':4,\n",
        "       'sattriya':5, 'kuchipudi':6, 'mohiniyattam':7}\n",
        "df.target=df.target.map(df_dict)\n",
        "\n",
        "df[\"kfold\"] = -1    \n",
        "df =df.sample(frac=1).reset_index(drop=True)\n",
        "y = df.target.values\n",
        "kf =model_selection.StratifiedKFold(n_splits=5)\n",
        "\n",
        "for f, (t_, v_) in enumerate(kf.split(X=df, y=y)):\n",
        "    df.loc[v_, 'kfold'] = f\n",
        "\n",
        "df.to_csv(\"train_folds.csv\", index=False)"
      ],
      "execution_count": 0,
      "outputs": []
    },
    {
      "cell_type": "code",
      "metadata": {
        "id": "b5M3WaK3w82_",
        "colab_type": "code",
        "colab": {}
      },
      "source": [
        "class EfficientNetb0(nn.Module):\n",
        "    def __init__(self):\n",
        "        super(EfficientNetb0, self).__init__()\n",
        "        self.base_model =timm.create_model('efficientnet_b0',pretrained=True,num_classes=8)\n",
        "        \n",
        "    def forward(self, image, targets):\n",
        "        batch_size, _, _, _ = image.shape\n",
        "        out = self.base_model(image)\n",
        "        loss = nn.CrossEntropyLoss()(out, targets)\n",
        "        return out, loss"
      ],
      "execution_count": 0,
      "outputs": []
    },
    {
      "cell_type": "code",
      "metadata": {
        "id": "Cfilai4W0V5C",
        "colab_type": "code",
        "colab": {}
      },
      "source": [
        "!pip install pytorch_fanatics --quiet\n",
        "from pytorch_fanatics.dataloader import Cloader\n",
        "from pytorch_fanatics.trainer import Trainer\n",
        "from pytorch_fanatics.utils import EarlyStop\n",
        "from pytorch_fanatics.utils import LRFinder\n",
        "from pytorch_fanatics.logger import Logger"
      ],
      "execution_count": 0,
      "outputs": []
    },
    {
      "cell_type": "code",
      "metadata": {
        "id": "hf2UBwLF0w3M",
        "colab_type": "code",
        "colab": {}
      },
      "source": [
        "def train(fold):\n",
        "    training_data_path = \"/content/dataset/train\"\n",
        "    df = pd.read_csv(\"train_folds.csv\")\n",
        "    device = torch.device(\"cuda\" if torch.cuda.is_available() else \"cpu\")\n",
        "    epochs = 10\n",
        "    train_bs = 128\n",
        "    valid_bs = 64\n",
        "\n",
        "    df_train = df[df.kfold != fold].reset_index(drop=True)\n",
        "    df_valid = df[df.kfold == fold].reset_index(drop=True)\n",
        "\n",
        "    model = EfficientNetb0()\n",
        "    model.to(device)\n",
        "\n",
        "    mean = (0.485, 0.456, 0.406)\n",
        "    std = (0.229, 0.224, 0.225)\n",
        "    train_aug = albumentations.Compose(\n",
        "        [\n",
        "            albumentations.Normalize(mean, std, max_pixel_value=255.0, always_apply=True),\n",
        "            albumentations.ShiftScaleRotate(shift_limit=0.0625, scale_limit=0.1, rotate_limit=15),\n",
        "            albumentations.Flip(p=0.5)\n",
        "        ]\n",
        "    )\n",
        "\n",
        "    valid_aug = albumentations.Compose(\n",
        "        [\n",
        "            albumentations.Normalize(mean, std, max_pixel_value=255.0, always_apply=True)\n",
        "        ]\n",
        "    )\n",
        "\n",
        "    train_images = df_train.Image.values.tolist()\n",
        "    train_images = [os.path.join(training_data_path, i) for i in train_images]\n",
        "    train_targets = df_train.target.values\n",
        "\n",
        "    valid_images = df_valid.Image.values.tolist()\n",
        "    valid_images = [os.path.join(training_data_path, i) for i in valid_images]\n",
        "    valid_targets = df_valid.target.values\n",
        "\n",
        "    train_dataset = Cloader(\n",
        "        image_path=train_images,\n",
        "        targets=train_targets,\n",
        "        resize=(224,224),\n",
        "        transforms=train_aug,\n",
        "    )\n",
        "\n",
        "    train_loader = torch.utils.data.DataLoader(\n",
        "        train_dataset, batch_size=train_bs, shuffle=True, num_workers=4\n",
        "    )\n",
        "\n",
        "    valid_dataset = Cloader(\n",
        "        image_path=valid_images,\n",
        "        targets=valid_targets,\n",
        "        resize=(224,224),\n",
        "        transforms=valid_aug,\n",
        "    )\n",
        "\n",
        "    valid_loader = torch.utils.data.DataLoader(\n",
        "        valid_dataset, batch_size=valid_bs, shuffle=False, num_workers=4\n",
        "    )\n",
        "\n",
        "    optimizer = torch.optim.Adam(model.parameters(), lr=1e-3)\n",
        "    scheduler = torch.optim.lr_scheduler.ReduceLROnPlateau(\n",
        "        optimizer,\n",
        "        patience=3,\n",
        "        threshold=0.001,\n",
        "        mode=\"max\"\n",
        "    )\n",
        "    \n",
        "    \n",
        "    es = EarlyStop(patience=5, mode=\"max\")\n",
        "\n",
        "    for epoch in range(epochs):\n",
        "        Trainer.train(model,train_loader,optimizer,device)\n",
        "        metric_score= Trainer.evaluate(\n",
        "            model,valid_loader,device,scheduler) #default metric is accuracy\n",
        "        \n",
        "        es(metric_score, model, model_path=\"model_best.pth\")\n",
        "        Logger.save(model,optimizer,scheduler,'checkpoint.pth') #Use Logger to train from where it was left\n",
        "        if es.early_stop:\n",
        "            print(\"Early stopping\")\n",
        "            break\n",
        "    Trainer.get_log().to_csv(f'fold{fold}log.csv') #This will directly save the log\n",
        "    Trainer.reset()\n"
      ],
      "execution_count": 0,
      "outputs": []
    },
    {
      "cell_type": "code",
      "metadata": {
        "id": "jmQ26Izs0w1X",
        "colab_type": "code",
        "colab": {
          "base_uri": "https://localhost:8080/",
          "height": 552
        },
        "outputId": "86974e78-d054-4ad8-af8c-f13047ea03f0"
      },
      "source": [
        "train(0)"
      ],
      "execution_count": 8,
      "outputs": [
        {
          "output_type": "stream",
          "text": [
            "   Train_Loss  Valid_Loss  Metric_Score  Current_LR\n",
            "0    0.103336    0.257615      0.438356      0.0010\n",
            "1    0.032447    0.213499      0.575342      0.0010\n",
            "2    0.006251    0.359913      0.630137      0.0010\n",
            "3    0.004607    0.355868      0.684932      0.0010\n",
            "4    0.011814    0.261907      0.726027      0.0010\n",
            "5    0.002905    0.186034      0.698630      0.0010\n",
            "6    0.007312    0.150990      0.671233      0.0010\n",
            "7    0.001760    0.168527      0.671233      0.0010\n",
            "8    0.003411    0.240755      0.643836      0.0010\n",
            "9    0.001787    0.205086      0.657534      0.0001\n"
          ],
          "name": "stdout"
        },
        {
          "output_type": "stream",
          "text": [
            "Traceback (most recent call last):\n",
            "TypeError: 'NoneType' object is not callable\n"
          ],
          "name": "stderr"
        },
        {
          "output_type": "display_data",
          "data": {
            "image/png": "[encoded data removed]",
            "text/plain": [
              "<Figure size 432x288 with 1 Axes>"
            ]
          },
          "metadata": {
            "tags": []
          }
        },
        {
          "output_type": "stream",
          "text": [
            "EarlyStop count: 5 out of 5\n",
            "Early stopping\n"
          ],
          "name": "stdout"
        }
      ]
    }
  ]
}